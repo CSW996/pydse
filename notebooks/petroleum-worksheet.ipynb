{
 "metadata": {
  "name": "",
  "signature": "sha256:2339c3adcadcbd4b7436fc8140e4c947581d5e8b865757ba6801b9e008feac21"
 },
 "nbformat": 3,
 "nbformat_minor": 0,
 "worksheets": [
  {
   "cells": [
    {
     "cell_type": "code",
     "collapsed": false,
     "input": [
      "import pandas as pd\n",
      "import numpy as np\n",
      "import matplotlib.pyplot as plt\n",
      "%matplotlib inline\n",
      "\n",
      "from pydse.arma import ARMA\n",
      "from pydse import data"
     ],
     "language": "python",
     "metadata": {},
     "outputs": [],
     "prompt_number": 1
    },
    {
     "cell_type": "markdown",
     "metadata": {},
     "source": [
      "## Petroleum for Chemicals"
     ]
    },
    {
     "cell_type": "code",
     "collapsed": false,
     "input": [
      "chemicals = data.sales_petroleum()[['Chemicals']]\n",
      "chemicals.plot()\n",
      "pass"
     ],
     "language": "python",
     "metadata": {},
     "outputs": [
      {
       "metadata": {},
       "output_type": "display_data",
       "png": "[encoded data removed]",
       "text": [
        "<matplotlib.figure.Figure at 0x474b090>"
       ]
      }
     ],
     "prompt_number": 2
    },
    {
     "cell_type": "code",
     "collapsed": false,
     "input": [
      "from pandas.stats.moments import rolling_mean, ewma\n",
      "from utils import ols"
     ],
     "language": "python",
     "metadata": {},
     "outputs": [],
     "prompt_number": 3
    },
    {
     "cell_type": "code",
     "collapsed": false,
     "input": [
      "# Task: Analyze the trend and make the new time series stationary\n",
      "#       See also:\n",
      "#        * http://pandas.pydata.org/pandas-docs/version/0.15.1/generated/pandas.stats.moments.rolling_mean.html\n",
      "#        * http://pandas.pydata.org/pandas-docs/stable/generated/pandas.stats.moments.ewma.html"
     ],
     "language": "python",
     "metadata": {},
     "outputs": [],
     "prompt_number": 4
    },
    {
     "cell_type": "code",
     "collapsed": false,
     "input": [
      "from statsmodels.graphics.tsaplots import plot_pacf, plot_acf"
     ],
     "language": "python",
     "metadata": {},
     "outputs": [],
     "prompt_number": 5
    },
    {
     "cell_type": "code",
     "collapsed": false,
     "input": [
      "# Task: Plot autocorrelation and partial autocorrelation\n",
      "#       See also:\n",
      "#        * http://statsmodels.sourceforge.net/stable/generated/statsmodels.graphics.tsaplots.plot_pacf.html\n",
      "#        * http://statsmodels.sourceforge.net/stable/generated/statsmodels.graphics.tsaplots.plot_acf.html"
     ],
     "language": "python",
     "metadata": {},
     "outputs": [],
     "prompt_number": 6
    },
    {
     "cell_type": "code",
     "collapsed": false,
     "input": [
      "from pydse.arma import ARMA\n",
      "from pydse.utils import make_lag_arr\n",
      "\n",
      "AR = (np.array([1, 0, 0, 0, 0, 0, 0, 0, 0, 0, 0, 0, 0.01]),\n",
      "      np.array([13, 1, 1]))\n",
      "# = make_lag_arr([12])\n",
      "MA = (np.array([1, 0.01, 0, 0, 0, 0, 0, 0, 0, 0, 0, 0, 0, 0.01]),\n",
      "      np.array([14, 1, 1]))\n",
      "# = make_lag_arr([1, 13])\n",
      "arma = ARMA(A=AR, B=MA, rand_state=0)\n",
      "arma.fix_constants()"
     ],
     "language": "python",
     "metadata": {},
     "outputs": [],
     "prompt_number": 7
    },
    {
     "cell_type": "code",
     "collapsed": false,
     "input": [
      "# Task: Try different values for AR and MA based on the observation\n",
      "#       in the ACF and PACF plots.\n",
      "# arma.est_params(residual_data)\n",
      "# arma.forecast(residual_data)"
     ],
     "language": "python",
     "metadata": {},
     "outputs": [],
     "prompt_number": 8
    },
    {
     "cell_type": "code",
     "collapsed": false,
     "input": [
      "from pydse.arma import minic"
     ],
     "language": "python",
     "metadata": {},
     "outputs": [],
     "prompt_number": 9
    },
    {
     "cell_type": "code",
     "collapsed": false,
     "input": [
      "# Task: Find the best parameters by using an exhaustive search over a set of possible parameters\n",
      "\n",
      "# best_ar_lags, best_ma_lags = minic([1, ..], [1, ..], residual)\n",
      "# arma = ..."
     ],
     "language": "python",
     "metadata": {},
     "outputs": [],
     "prompt_number": 10
    },
    {
     "cell_type": "code",
     "collapsed": false,
     "input": [
      "# Task: Re-add the trend to the prediction to compare it with the original truth"
     ],
     "language": "python",
     "metadata": {},
     "outputs": [],
     "prompt_number": 11
    },
    {
     "cell_type": "markdown",
     "metadata": {},
     "source": [
      "## Petroleum for Vehicles"
     ]
    },
    {
     "cell_type": "code",
     "collapsed": false,
     "input": [
      "vehicles = data.sales_petroleum()[['Vehicles']]\n",
      "vehicles.plot()\n",
      "pass"
     ],
     "language": "python",
     "metadata": {},
     "outputs": [
      {
       "metadata": {},
       "output_type": "display_data",
       "png": "[encoded data removed]",
       "text": [
        "<matplotlib.figure.Figure at 0x4727e90>"
       ]
      }
     ],
     "prompt_number": 12
    },
    {
     "cell_type": "markdown",
     "metadata": {},
     "source": [
      "* **Tasks:**\n",
      " * Analyse the trend in the data\n",
      " * Transform the time series so that it is stationary\n",
      " * Plot (partial) autocorrelation to determine possible values for the lag\n",
      " * Train/Fit an ARMA model and find matching/good/optimal parameters "
     ]
    },
    {
     "cell_type": "code",
     "collapsed": false,
     "input": [],
     "language": "python",
     "metadata": {},
     "outputs": [],
     "prompt_number": 12
    },
    {
     "cell_type": "markdown",
     "metadata": {},
     "source": [
      "### Forecasting with a horizon"
     ]
    },
    {
     "cell_type": "code",
     "collapsed": false,
     "input": [
      "# Task: Instead of predicting only step ahead, predict longer timespan with arma.forecast(<dataset>, horizon=<n>) "
     ],
     "language": "python",
     "metadata": {},
     "outputs": [],
     "prompt_number": 13
    },
    {
     "cell_type": "code",
     "collapsed": false,
     "input": [],
     "language": "python",
     "metadata": {},
     "outputs": [],
     "prompt_number": 13
    }
   ],
   "metadata": {}
  }
 ]
}